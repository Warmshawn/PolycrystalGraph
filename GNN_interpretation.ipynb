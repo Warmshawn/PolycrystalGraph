{
  "nbformat": 4,
  "nbformat_minor": 0,
  "metadata": {
    "accelerator": "GPU",
    "colab": {
      "name": "GNN_interpretation_1014.ipynb",
      "provenance": [],
      "collapsed_sections": []
    },
    "kernelspec": {
      "display_name": "Python 3",
      "language": "python",
      "name": "python3"
    },
    "language_info": {
      "codemirror_mode": {
        "name": "ipython",
        "version": 3
      },
      "file_extension": ".py",
      "mimetype": "text/x-python",
      "name": "python",
      "nbconvert_exporter": "python",
      "pygments_lexer": "ipython3",
      "version": "3.7.4"
    }
  },
  "cells": [
    {
      "cell_type": "markdown",
      "metadata": {
        "id": "vgElaY4nKY8_"
      },
      "source": [
        "This repo contains the code base of the project that could be run on Google Colab.\n",
        "\n",
        "**Code structure :**\n",
        "1. Upload the data\n",
        "2. Set up the dataset\n",
        "3. Define the machine learning model\n",
        "4. Perform 10-fold validation\n",
        "5. Calculate Intergrated Gradient\n"
      ]
    },
    {
      "cell_type": "markdown",
      "metadata": {
        "id": "wuewjM5MMAae"
      },
      "source": [
        "**1. Upload the data**\n",
        "\n",
        "1.1 Unzip and Upload the [microstructure-property datasets](http://cs.wisc.edu/~demirel/data.tar.gz) to the google drive.\n",
        "\n",
        "1.2 Mount the google drive folder and go to the folder contains the subfolder data/\n"
      ]
    },
    {
      "cell_type": "code",
      "metadata": {
        "id": "RWSJpsyKqHjH"
      },
      "source": [
        "from google.colab import drive\n",
        "drive.mount('/content/drive', force_remount=True)\n",
        "%cd /content/drive/My\\ Drive/microstructure/GNN"
      ],
      "execution_count": null,
      "outputs": []
    },
    {
      "cell_type": "markdown",
      "metadata": {
        "id": "oMl2qQOZORCM"
      },
      "source": [
        "**2. Set up the dataset**\n",
        "\n",
        "There are 492 microstructures in total. Four or five different magnetic fields are applied to each microstructure, amounting to 2287 data points.\n",
        "\n",
        "- neighbor.txt: adajcency matrix\n",
        "- feature.txt: feature matrix\n",
        "- property.txt: external magnetic field and corresponding magnetostriction\n",
        "\n",
        "2.1 data reading and preprocessing\n"
      ]
    },
    {
      "cell_type": "code",
      "metadata": {
        "id": "KuFPrNzkstEk"
      },
      "source": [
        "from __future__ import print_function\n",
        "import numpy as np\n",
        "import torch\n",
        "from torch.utils.data import Dataset\n",
        "from scipy import sparse\n",
        "\n",
        "class GraphDataSet(Dataset):\n",
        "    def __init__(self, num_graphs, max_node, num_features):\n",
        "        for i in range(1, num_graphs + 1):\n",
        "            # load files\n",
        "            file_paths = ['data/structure-{}/neighbor.txt'.format(i), 'data/structure-{}/feature.txt'.format(i),\n",
        "                          'data/structure-{}/property.txt'.format(i)]\n",
        "\n",
        "            graph_elements = [np.loadtxt(file_paths[0]), np.loadtxt(file_paths[1]), np.loadtxt(file_paths[2])]\n",
        "\n",
        "            # feature data manipulation\n",
        "            graph_elements[1] = manipulate_feature(graph_elements[1], max_node, num_features)\n",
        "\n",
        "            # normalize the adjacency matrix\n",
        "            graph_elements[0] = normalize_adj(graph_elements[0], max_node)\n",
        "\n",
        "            # delete data points with negative properties\n",
        "            graph_elements[2] = graph_elements[2][graph_elements[2].min(axis=1) >= 0, :]\n",
        "            # get the dimension of proprty\n",
        "            num_properties, width = np.shape(graph_elements[2])\n",
        "            # independent variable t, the external field\n",
        "            t = np.delete(graph_elements[2], 1, axis=1)\n",
        "            # label, the magnetostriction\n",
        "            label = np.delete(graph_elements[2], 0, axis=1)\n",
        "\n",
        "            # change it to the several data points\n",
        "            multiple_neighbor, multiple_feature = [graph_elements[0] for x in range(num_properties)], \\\n",
        "                                                  [graph_elements[1] for x in range(num_properties)]\n",
        "\n",
        "                # concatenating the matrices\n",
        "            if i == 1:\n",
        "                adjacency_matrix, node_attr_matrix, t_matrix, label_matrix = multiple_neighbor, multiple_feature, t, label\n",
        "            else:\n",
        "                adjacency_matrix, node_attr_matrix, t_matrix, label_matrix = np.concatenate((adjacency_matrix, multiple_neighbor)), \\\n",
        "                                                                             np.concatenate((node_attr_matrix, multiple_feature)), \\\n",
        "                                                                             np.concatenate((t_matrix, t)),\\\n",
        "                                                                             np.concatenate((label_matrix, label))\n",
        "\n",
        "        # normalize the independent variable t matrix\n",
        "        t_matrix, label_matrix = normalize_t_label(t_matrix, label_matrix)\n",
        "\n",
        "        self.adjacency_matrix = np.array(adjacency_matrix)\n",
        "        self.node_attr_matrix = np.array(node_attr_matrix)\n",
        "        self.t_matrix = np.array(t_matrix)\n",
        "        self.label_matrix = np.array(label_matrix)\n",
        "\n",
        "        print('--------------------')\n",
        "        print('Training Data:')\n",
        "        print('adjacency matrix:\\t', self.adjacency_matrix.shape)\n",
        "        print('node attribute matrix:\\t', self.node_attr_matrix.shape)\n",
        "        print('t matrix:\\t\\t', self.t_matrix.shape)\n",
        "        print('label name:\\t\\t', self.label_matrix.shape)\n",
        "        print('--------------------')\n",
        "\n",
        "    def __len__(self):\n",
        "        return len(self.adjacency_matrix)\n",
        "\n",
        "    def __getitem__(self, idx):\n",
        "        adjacency_matrix = self.adjacency_matrix[idx].todense()\n",
        "        node_attr_matrix = self.node_attr_matrix[idx].todense()\n",
        "        t_matrix = self.t_matrix[idx]\n",
        "        label_matrix = self.label_matrix[idx]\n",
        "\n",
        "        adjacency_matrix = torch.from_numpy(adjacency_matrix)\n",
        "        node_attr_matrix = torch.from_numpy(node_attr_matrix)\n",
        "        t_matrix = torch.from_numpy(t_matrix)\n",
        "        label_matrix = torch.from_numpy(label_matrix)\n",
        "        return adjacency_matrix, node_attr_matrix, t_matrix, label_matrix\n",
        "\n",
        "def normalize_adj(neighbor, max_node):\n",
        "    np.fill_diagonal(neighbor, 1)  # add the identity matrix\n",
        "    D = np.sum(neighbor, axis=0)  # calculate the diagnoal element of D\n",
        "    D_inv = np.diag(np.power(D, -0.5))  # construct D\n",
        "    neighbor = np.matmul(D_inv, np.matmul(neighbor, D_inv))  # symmetric normalization of adjacency matrix\n",
        "\n",
        "    # match dimension to the max dimension for neighbors\n",
        "    result = np.zeros((max_node, max_node))\n",
        "    result[:neighbor.shape[0], :neighbor.shape[1]] = neighbor\n",
        "    neighbor = result\n",
        "\n",
        "    # convert the feature matrix to sparse matrix\n",
        "    neighbor = sparse.csr_matrix(neighbor)\n",
        "\n",
        "    return neighbor\n",
        "\n",
        "def manipulate_feature(feature, max_node, features):\n",
        "    feature = np.delete(feature, 0, axis=1)  # remove the first column (Grain ID)\n",
        "    feature[:, [3]] = (feature[:, [3]] - np.mean(feature[:, [3]])) / np.std(\n",
        "        feature[:, [3]])  # normalize grain size\n",
        "    feature[:, [4]] = (feature[:, [4]] - np.mean(feature[:, [4]])) / np.std(\n",
        "        feature[:, [4]])  # normalize number of neighbors\n",
        "\n",
        "    # match dimension to the max dimension for features\n",
        "    result = np.zeros((max_node, features))\n",
        "    result[:feature.shape[0], :feature.shape[1]] = feature\n",
        "    feature = result\n",
        "\n",
        "    # convert the feature matrix to sparse matrix\n",
        "    feature = sparse.csr_matrix(feature)\n",
        "\n",
        "    return feature\n",
        "\n",
        "def normalize_t_label(t_matrix, label_matrix):\n",
        "    t_matrix = t_matrix / 10000\n",
        "    label_mean = np.mean(label_matrix)\n",
        "    label_std = np.std(label_matrix)\n",
        "    label_matrix = (label_matrix - label_mean) / label_std\n",
        "\n",
        "    # save the mean and standard deviation of label\n",
        "    norm = np.array([label_mean, label_std])\n",
        "    np.savez_compressed('norm.npz', norm=norm)\n",
        "\n",
        "    return t_matrix, label_matrix"
      ],
      "execution_count": 2,
      "outputs": []
    },
    {
      "cell_type": "markdown",
      "metadata": {
        "id": "O06fILSkthyp"
      },
      "source": [
        "2.2 dataloader for training set and testing set. \n",
        "\n",
        "The training set and testing set are loaded according to the input indices."
      ]
    },
    {
      "cell_type": "code",
      "metadata": {
        "id": "I25_zwbWtsJv"
      },
      "source": [
        "from torch.utils.data import DataLoader\n",
        "from torch.utils.data.sampler import SubsetRandomSampler\n",
        "\n",
        "def get_data(idx_path, running_index, folds, batch_size, max_node, num_features, num_graphs):\n",
        "    indices = np.load(idx_path, allow_pickle=True)['indices']\n",
        "    test_idx = indices[running_index]\n",
        "    train_idx = indices[[i for i in range(folds) if i != running_index]]\n",
        "    train_idx = [item for sublist in train_idx for item in sublist]\n",
        "\n",
        "    dataset = GraphDataSet(num_graphs, max_node, num_features)\n",
        "    train_data = DataLoader(dataset, batch_size=batch_size, sampler=SubsetRandomSampler(train_idx))\n",
        "    test_data = DataLoader(dataset, batch_size=batch_size, sampler=SubsetRandomSampler(test_idx))\n",
        "    return train_data, test_data"
      ],
      "execution_count": 4,
      "outputs": []
    },
    {
      "cell_type": "markdown",
      "metadata": {
        "id": "QQDOUqnXuWEY"
      },
      "source": [
        "**3. Define the machine learning models**\n",
        "\n",
        "3.1 define some functions to\n",
        "- convert tensor to variable\n",
        "- convert variable to numpy array\n",
        "- output the true value and predicted value of the dataset\n",
        "- calculate the mean square error (MSE)\n",
        "- calculate the macro average relative error (MARE)\n",
        "\n"
      ]
    },
    {
      "cell_type": "code",
      "metadata": {
        "id": "UwGyxijsP0NT"
      },
      "source": [
        "from torch.autograd import Variable\n",
        "\n",
        "def tensor_to_variable(x):\n",
        "    if torch.cuda.is_available():\n",
        "        x = x.cuda()\n",
        "    return Variable(x.float())\n",
        "\n",
        "def variable_to_numpy(x):\n",
        "    if torch.cuda.is_available():\n",
        "        x = x.cpu()\n",
        "    x = x.data.numpy()\n",
        "    return x\n",
        "\n",
        "def print_preds(y_label_list, y_pred_list, test_or_tr, running_index):\n",
        "    length, w = np.shape(y_label_list)\n",
        "    filename=\"{}_Output_{}.txt\".format(test_or_tr, running_index)\n",
        "    output=open(filename, \"w\")\n",
        "    print('{} Set Predictions: '.format(test_or_tr), file = output, flush = True)\n",
        "    print('True_Value Predicted_value', file = output, flush = True)\n",
        "    for i in range(0, length):\n",
        "        print('%f, %f' % (y_label_list[i], y_pred_list[i]), file = output, flush = True)\n",
        "\n",
        "def mse(Y_prime, Y):\n",
        "    return np.mean((Y_prime - Y) ** 2)\n",
        "\n",
        "def macro_avg_err(Y_prime, Y):\n",
        "    if type(Y_prime) is np.ndarray:\n",
        "        return np.sum(np.abs(Y - Y_prime)) / np.sum(np.abs(Y))\n",
        "    return torch.sum(torch.abs(Y - Y_prime)) / torch.sum(torch.abs(Y))"
      ],
      "execution_count": 10,
      "outputs": []
    },
    {
      "cell_type": "markdown",
      "metadata": {
        "id": "0tLKqU3VQ6xI"
      },
      "source": [
        "3.2 define the Graph Neural Network model"
      ]
    },
    {
      "cell_type": "code",
      "metadata": {
        "id": "LCDeWVe5XFiV"
      },
      "source": [
        "import argparse\n",
        "import time\n",
        "from collections import OrderedDict\n",
        "import os\n",
        "import torch.nn as nn\n",
        "import torch.nn.functional as F\n",
        "from torch.autograd import Variable\n",
        "import torch.optim as optim\n",
        "import logging\n",
        "logger = logging.getLogger()\n",
        "logger.setLevel(logging.INFO)\n",
        "\n",
        "# the MPL layer\n",
        "class Message_Passing(nn.Module):\n",
        "    def forward(self, x, adjacency_matrix):\n",
        "        neighbor_nodes = torch.bmm(adjacency_matrix, x)\n",
        "        logging.debug('neighbor message\\t', neighbor_nodes.size())\n",
        "        logging.debug('x shape\\t', x.size())\n",
        "        return x\n",
        "\n",
        "# the GNN model\n",
        "class GraphModel(nn.Module):\n",
        "    def __init__(self, max_node_num, atom_attr_dim, latent_dim):\n",
        "        super(GraphModel, self).__init__()\n",
        "\n",
        "        self.max_node_num = max_node_num    # max number of grains/nodes for microstructures in the dataset\n",
        "        self.atom_attr_dim = atom_attr_dim  # number of features of each grain/node before passing MPLs\n",
        "        self.latent_dim = latent_dim        # number of features of each grain/node after passing MPls\n",
        "\n",
        "        # MPLs\n",
        "        self.graph_modules = nn.Sequential(OrderedDict([\n",
        "            ('message_passing_0', Message_Passing()),\n",
        "            ('dense_0', nn.Linear(self.atom_attr_dim, 50)),\n",
        "            ('activation_0', nn.Sigmoid()),\n",
        "            ('message_passing_1', Message_Passing()),\n",
        "            ('dense_1', nn.Linear(50, self.latent_dim)),\n",
        "            ('activation_1', nn.Sigmoid()),\n",
        "        ]))\n",
        "        \n",
        "        # FLs\n",
        "        self.fully_connected = nn.Sequential(\n",
        "            nn.Linear(self.max_node_num * self.latent_dim + 1, 1024),\n",
        "            nn.ReLU(),\n",
        "            nn.Linear(1024, 128),\n",
        "            nn.ReLU(),\n",
        "            nn.Linear(128, 1)\n",
        "        )\n",
        "\n",
        "        return\n",
        "\n",
        "    def forward(self, node_attr_matrix, adjacency_matrix, t_matrix):\n",
        "        node_attr_matrix = node_attr_matrix.float()\n",
        "        adjacency_matrix = adjacency_matrix.float()\n",
        "        x = node_attr_matrix\n",
        "        logging.debug('shape\\t', x.size())\n",
        "\n",
        "        for (name, module) in self.graph_modules.named_children():\n",
        "            if 'message_passing' in name:\n",
        "                x = module(x, adjacency_matrix=adjacency_matrix)\n",
        "            else:\n",
        "                x = module(x)\n",
        "\n",
        "        # Before flatten, the size should be [Batch size, max_node_num, latent_dim]\n",
        "        logging.debug('size of x after GNN\\t', x.size())\n",
        "        # After flatten is the graph representation\n",
        "        x = x.view(x.size()[0], -1)\n",
        "        logging.debug('size of x after GNN\\t', x.size())\n",
        "\n",
        "        # Concatenate [x, t]\n",
        "        x = torch.cat((x, t_matrix), 1)\n",
        "\n",
        "        x = self.fully_connected(x)\n",
        "        return x"
      ],
      "execution_count": 6,
      "outputs": []
    },
    {
      "cell_type": "markdown",
      "metadata": {
        "id": "hzRToBB5WzwI"
      },
      "source": [
        "3.3 define functions to\n",
        "- perform training\n",
        "- perform testing"
      ]
    },
    {
      "cell_type": "code",
      "metadata": {
        "id": "RZfmuLZuPb4g"
      },
      "source": [
        "def train(model, train_dataloader, test_dataloader, optimizer, criterion, epochs, running_index):\n",
        "\n",
        "    print()\n",
        "    print(\"*** Training started! ***\")\n",
        "    print()\n",
        "\n",
        "    filename=\"Learning_Output_{}.txt\".format(running_index)\n",
        "    output=open(filename, \"w\")\n",
        "    print('Epoch Training_time Training_MSE Testing_MSE',file = output, flush = True)\n",
        "\n",
        "    for epoch in range(epochs):\n",
        "        model.train()\n",
        "\n",
        "        train_start_time = time.time()\n",
        "\n",
        "        for batch_id, (adjacency_matrix, node_attr_matrix, t_matrix, label_matrix) in enumerate(train_dataloader):\n",
        "            adjacency_matrix = tensor_to_variable(adjacency_matrix)\n",
        "            node_attr_matrix = tensor_to_variable(node_attr_matrix)\n",
        "            t_matrix = tensor_to_variable(t_matrix)\n",
        "            label_matrix = tensor_to_variable(label_matrix)\n",
        "\n",
        "            optimizer.zero_grad()\n",
        "\n",
        "            y_pred = model(adjacency_matrix=adjacency_matrix, node_attr_matrix=node_attr_matrix, t_matrix=t_matrix) # model prediction\n",
        "            loss = criterion(y_pred, label_matrix) # calculate loss\n",
        "            loss.backward()    # back propagation\n",
        "            optimizer.step()   # update weight\n",
        "\n",
        "        train_end_time = time.time()\n",
        "        _, training_MSE = test(model, train_dataloader, 'Training', False, criterion,running_index)\n",
        "        _, testing_MSE  = test(model, test_dataloader,  'Test',     False, criterion,running_index)\n",
        "        print('%d %.3f %e %e' % (epoch, train_end_time-train_start_time, training_MSE, testing_MSE), file = output, flush = True)\n",
        "    \n",
        "    output.close()\n",
        "\n",
        "def test(model, data_loader, test_or_tr, printcond, criterion, running_index):\n",
        "    model.eval()\n",
        "    if data_loader is None:\n",
        "        return None, None\n",
        "\n",
        "    y_label_list, y_pred_list, total_loss = [], [], 0\n",
        "\n",
        "    for batch_id, (adjacency_matrix, node_attr_matrix, t_matrix, label_matrix) in enumerate(data_loader):\n",
        "        adjacency_matrix = tensor_to_variable(adjacency_matrix)\n",
        "        node_attr_matrix = tensor_to_variable(node_attr_matrix)\n",
        "        t_matrix = tensor_to_variable(t_matrix)\n",
        "        label_matrix = tensor_to_variable(label_matrix)\n",
        "\n",
        "        y_pred = model(adjacency_matrix=adjacency_matrix, node_attr_matrix=node_attr_matrix, t_matrix=t_matrix)\n",
        "\n",
        "        y_label_list.extend(variable_to_numpy(label_matrix))\n",
        "        y_pred_list.extend(variable_to_numpy(y_pred))\n",
        "\n",
        "    norm = np.load('norm.npz', allow_pickle=True)['norm']\n",
        "    label_mean, label_std = norm[0], norm[1]\n",
        "\n",
        "    # get the original value of true value and predicted value\n",
        "    y_label_list = np.array(y_label_list) * label_std + label_mean\n",
        "    y_pred_list = np.array(y_pred_list) * label_std + label_mean\n",
        "\n",
        "    # calculate the MARE and MSE \n",
        "    total_MARE = macro_avg_err(y_pred_list, y_label_list)\n",
        "    total_mse = criterion(torch.from_numpy(y_pred_list), torch.from_numpy(y_label_list)).item()\n",
        "\n",
        "    if printcond:\n",
        "        print_preds(y_label_list, y_pred_list, test_or_tr, running_index)\n",
        "        \n",
        "\n",
        "    return total_MARE, total_mse\n",
        "\n"
      ],
      "execution_count": 7,
      "outputs": []
    },
    {
      "cell_type": "markdown",
      "metadata": {
        "id": "NBxHL5NpVCuE"
      },
      "source": [
        "**4. Perform 10-fold validation**\n",
        "\n",
        "4.1 split the whole dataset into ten folds"
      ]
    },
    {
      "cell_type": "code",
      "metadata": {
        "id": "3V6J2jptPGLR"
      },
      "source": [
        "import argparse\n",
        "from sklearn.model_selection import KFold\n",
        "\n",
        "# split the indices into different folds\n",
        "def split_data(num_folds, num_graphs, max_node, num_features):\n",
        "    dataset = GraphDataSet(num_graphs, max_node, num_features)\n",
        "    num_of_data = dataset.__len__()\n",
        "    kf = KFold(n_splits=num_folds, shuffle=True)\n",
        "    ind = []\n",
        "    for i, (_, index) in enumerate(kf.split(np.arange(num_of_data))):\n",
        "        np.random.shuffle(index)\n",
        "        ind.append(index)\n",
        "    ind = np.array(ind, dtype=object)\n",
        "    return ind\n",
        "\n",
        "# save the indices\n",
        "def extract_graph_data(out_file_path, ind):\n",
        "    np.savez_compressed(out_file_path, indices = ind)\n",
        "\n",
        "num_folds = 10                  # number of folds\n",
        "out_file_path='indices.npz'   # output file path\n",
        "split_seed = 123              # random seed\n",
        "np.random.seed(split_seed)    # set the random seed\n",
        "\n",
        "num_graphs = 492\n",
        "max_node = 300\n",
        "num_features = 5\n",
        "\n",
        "print(\"Output File Path: {}\".format(out_file_path))\n",
        "\n",
        "indices = split_data(num_folds,num_graphs, max_node, num_features)\n",
        "extract_graph_data(out_file_path, indices)\n",
        "\n",
        "print(\"Data successfully split into {} folds!\".format(num_folds))"
      ],
      "execution_count": null,
      "outputs": []
    },
    {
      "cell_type": "markdown",
      "metadata": {
        "id": "3wnw02lpbSw0"
      },
      "source": [
        "4.2 perform 10-fold validation"
      ]
    },
    {
      "cell_type": "code",
      "metadata": {
        "id": "PmJ61RukbhLp"
      },
      "source": [
        "num_graph = 492\n",
        "max_node_num = 300 \n",
        "atom_attr_dim = 5\n",
        "\n",
        "# hyperparameters\n",
        "latent_dim = 5\n",
        "epochs = 1000\n",
        "batch_size = 32\n",
        "learning_rate = 1e-4\n",
        "min_learning_rate = 1e-5\n",
        "train_seed = 123\n",
        "folds = 10\n",
        "idx_path = 'indices.npz'\n",
        "\n",
        "# set random seed\n",
        "np.random.seed(train_seed)\n",
        "torch.manual_seed(train_seed)\n",
        "if torch.cuda.is_available():\n",
        "    torch.cuda.manual_seed(train_seed)\n",
        "    torch.cuda.manual_seed(train_seed)\n",
        "torch.backends.cudnn.deterministic = True\n",
        "\n",
        "for i in range(folds):\n",
        "    running_index = i\n",
        "\n",
        "    # Define the model\n",
        "    model = GraphModel(max_node_num=max_node_num, atom_attr_dim=atom_attr_dim, latent_dim=latent_dim)\n",
        "    if torch.cuda.is_available():\n",
        "        model.cuda()\n",
        "    optimizer = optim.Adam(model.parameters(), lr=learning_rate) # optimizer\n",
        "    criterion = nn.MSELoss()  # loss\n",
        "\n",
        "    # get the data\n",
        "    train_dataloader, test_dataloader = get_data(idx_path, \n",
        "                                                 running_index, \n",
        "                                                 folds, \n",
        "                                                 batch_size, \n",
        "                                                 max_node, \n",
        "                                                 num_features, \n",
        "                                                 num_graphs)\n",
        "\n",
        "    # train the mode\n",
        "    train(model, train_dataloader, test_dataloader, optimizer, criterion, epochs, running_index)\n",
        "\n",
        "    # predictions on the entire training and test datasets\n",
        "    train_rel, train_mse = test(model, train_dataloader, 'Training', True, criterion, running_index)\n",
        "    test_rel, test_mse = test(model, test_dataloader, 'Testing', True, criterion, running_index)\n",
        "\n",
        "    print()\n",
        "    print('--------------------')\n",
        "    print()\n",
        "    print(\"Running index: {}\".format(running_index))\n",
        "    print(\"Training Relative Error: {:.3f}%\".format(100 * train_rel))\n",
        "    print(\"Test Relative Error: {:.3f}%\".format(100 * test_rel))\n",
        "    print(\"Training MSE: {}\".format(train_mse))\n",
        "    print(\"Test MSE: {}\".format(test_mse))\n"
      ],
      "execution_count": null,
      "outputs": []
    },
    {
      "cell_type": "markdown",
      "metadata": {
        "id": "QkC_L5fCfERq"
      },
      "source": [
        "**5. Calculate Intergrated Gradient**\n",
        "\n",
        "5.1 define functions to \n",
        "- calculate the gradient\n"
      ]
    },
    {
      "cell_type": "code",
      "metadata": {
        "id": "gRWFowW7UPGq"
      },
      "source": [
        "import math\n",
        "def tensor_to_variable_grad(x):\n",
        "    if torch.cuda.is_available():\n",
        "        x = x.cuda()\n",
        "    return Variable(x.float(),requires_grad=True)\n",
        "\n",
        "def gradient_calculation(adjacency_matrix, node_attr_matrix, t_matrix, model):\n",
        "    adjacency_matrix=tensor_to_variable_grad(adjacency_matrix)\n",
        "    node_attr_matrix=tensor_to_variable_grad(node_attr_matrix)\n",
        "    t_matrix=tensor_to_variable_grad(t_matrix)\n",
        "    \n",
        "    label=model(adjacency_matrix=adjacency_matrix, node_attr_matrix=node_attr_matrix, t_matrix=t_matrix)\n",
        "    label.backward()  # back propagation\n",
        "    grad_node_attr_matrix=variable_to_numpy(node_attr_matrix.grad) # get the gradient of features\n",
        "    grad_t_matrix=variable_to_numpy(t_matrix.grad)  # get the gradient of external field\n",
        "    \n",
        "    return grad_node_attr_matrix, grad_t_matrix\n"
      ],
      "execution_count": 12,
      "outputs": []
    },
    {
      "cell_type": "markdown",
      "metadata": {
        "id": "tocEmb9iUhtp"
      },
      "source": [
        "- get a real input and define the corresponding baseline input"
      ]
    },
    {
      "cell_type": "code",
      "metadata": {
        "id": "rzTs22g8U3vL"
      },
      "source": [
        "def readinput(id, max_node, num_features):\n",
        "    # load files\n",
        "    file_paths = ['data/structure-{}/neighbor.txt'.format(id), 'data/structure-{}/feature.txt'.format(id),\n",
        "                  'data/structure-{}/property.txt'.format(id)]\n",
        "    \n",
        "    graph_elements = [np.loadtxt(file_paths[0]), np.loadtxt(file_paths[1]), np.loadtxt(file_paths[2])]\n",
        "    \n",
        "    # feature data manipulation\n",
        "    graph_elements[1] = manipulate_feature(graph_elements[1], max_node, num_features)\n",
        "    \n",
        "    # normalize the adjacency matrix\n",
        "    graph_elements[0] = normalize_adj(graph_elements[0], max_node)\n",
        "\n",
        "    # delete data points with negative properties\n",
        "    graph_elements[2] = graph_elements[2][graph_elements[2].min(axis=1) >= 0, :]\n",
        "\n",
        "    # get the dimension of property\n",
        "    num_properties, width = np.shape(graph_elements[2])\n",
        "    proprty = graph_elements[2]\n",
        "\n",
        "    # get the field of the last data point asoociated with this graph.\n",
        "    t_matrix = proprty[num_properties-1,0].reshape((1,1))\n",
        "    t_matrix = t_matrix / 10000\n",
        "\n",
        "    adjacency_matrix = torch.from_numpy(graph_elements[0].todense())\n",
        "    node_attr_matrix = torch.from_numpy(graph_elements[1].todense())\n",
        "    t_matrix = torch.from_numpy(t_matrix)\n",
        "\n",
        "    return adjacency_matrix, node_attr_matrix, t_matrix\n",
        "\n",
        "def baselineinput(node_attr_matrix):\n",
        "    # specify the baseline: same with input graph except the Euler angles\n",
        "    baseline_node_attr_matrix = torch.zeros(node_attr_matrix.size())\n",
        "    \n",
        "    alpha, beta, gamma = 0.5*math.pi, 0.5*math.pi, 0.5*math.pi\n",
        "\n",
        "    for i in range(node_attr_matrix.size()[0]):\n",
        "        if node_attr_matrix[i][0] !=0 or node_attr_matrix[i][1] !=0 or node_attr_matrix[i][2]!=0:\n",
        "            baseline_node_attr_matrix[i][0]=alpha\n",
        "            baseline_node_attr_matrix[i][1]=beta\n",
        "            baseline_node_attr_matrix[i][2]=gamma\n",
        "        \n",
        "        baseline_node_attr_matrix[i][3]=node_attr_matrix[i][3]\n",
        "        baseline_node_attr_matrix[i][4]=node_attr_matrix[i][4]\n",
        "\n",
        "    return baseline_node_attr_matrix\n"
      ],
      "execution_count": 91,
      "outputs": []
    },
    {
      "cell_type": "markdown",
      "metadata": {
        "id": "G5DwwY2VgYHM"
      },
      "source": [
        "- calculate the intergrated gradient"
      ]
    },
    {
      "cell_type": "code",
      "metadata": {
        "id": "Z0sy4VRy-C7v"
      },
      "source": [
        "def Intergrated_gradient_calculation(id, max_node, num_features, model,steps=200):\n",
        "    # read real input\n",
        "    adjacency_matrix, node_attr_matrix, t_matrix = readinput(id, max_node, num_features)\n",
        "\n",
        "    # get baseline input\n",
        "    baseline_node_attr_matrix = baselineinput(node_attr_matrix)\n",
        "\n",
        "    # define the gradient matrix\n",
        "    grad_node_attr_matrix=torch.zeros(1,max_node,num_features)\n",
        "\n",
        "    # change the dimension of adjacency matrix and t matrix      \n",
        "    adjacency_matrix = torch.reshape(adjacency_matrix,(1,max_node, max_node))\n",
        "    \n",
        "    for step in range(steps):\n",
        "        # define temporary feature matrix\n",
        "        temp_node_attr_matrix = baseline_node_attr_matrix + (node_attr_matrix-baseline_node_attr_matrix) * step / steps\n",
        "        temp_node_attr_matrix = torch.reshape(temp_node_attr_matrix,(1,max_node,num_features))\n",
        "        \n",
        "        temp_grad_node_attr_matrix, _ = gradient_calculation(adjacency_matrix, temp_node_attr_matrix, t_matrix, model)\n",
        "        grad_node_attr_matrix += temp_grad_node_attr_matrix\n",
        "\n",
        "    grad_node_attr_matrix = torch.reshape(grad_node_attr_matrix, (max_node, num_features)) \n",
        "    grad_node_attr_matrix = (node_attr_matrix-baseline_node_attr_matrix) * grad_node_attr_matrix / steps\n",
        "    grad_node_attr_matrix = grad_node_attr_matrix.numpy()\n",
        "\n",
        "    return grad_node_attr_matrix   \n",
        "        "
      ],
      "execution_count": 86,
      "outputs": []
    },
    {
      "cell_type": "markdown",
      "metadata": {
        "id": "C5XLYCprklKZ"
      },
      "source": [
        "5.2 calculate Integrated Gradient for a microstructure and save it in txt"
      ]
    },
    {
      "cell_type": "code",
      "metadata": {
        "id": "zScAh0Nib9vX"
      },
      "source": [
        "from numpy import savetxt\n",
        " \n",
        "id=101\n",
        "grad_node_attr_matrix=Intergrated_gradient_calculation(id, max_node, num_features, model)\n",
        "savetxt(\"feature_grad_{0}.csv\".format(id), grad_node_attr_matrix, delimiter=',')"
      ],
      "execution_count": null,
      "outputs": []
    }
  ]
}